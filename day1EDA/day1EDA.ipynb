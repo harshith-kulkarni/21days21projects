{
  "nbformat": 4,
  "nbformat_minor": 0,
  "metadata": {
    "colab": {
      "private_outputs": true,
      "provenance": []
    },
    "kernelspec": {
      "name": "python3",
      "display_name": "Python 3"
    },
    "language_info": {
      "name": "python"
    }
  },
  "cells": [
    {
      "cell_type": "markdown",
      "source": [],
      "metadata": {
        "id": "UD1YgHsZM5qt"
      }
    },
    {
      "cell_type": "code",
      "source": [
        "import kagglehub\n",
        "import pandas as pd\n",
        "import seaborn as sns\n",
        "import matplotlib.pyplot as plt\n",
        "import numpy as np"
      ],
      "metadata": {
        "id": "2dEn8rYiM3Gt"
      },
      "execution_count": null,
      "outputs": []
    },
    {
      "cell_type": "code",
      "source": [
        "!git clone 'https://github.com/GeeksforgeeksDS/21-Days-21-Projects-Dataset'"
      ],
      "metadata": {
        "id": "lHskcm5XNvCy"
      },
      "execution_count": null,
      "outputs": []
    },
    {
      "cell_type": "code",
      "source": [
        "data=pd.read_csv(\"/content/21-Days-21-Projects-Dataset/Datasets/Titanic-Dataset.csv\")"
      ],
      "metadata": {
        "id": "Wpxa8pwlNxL8"
      },
      "execution_count": null,
      "outputs": []
    },
    {
      "cell_type": "code",
      "source": [
        "data.info()"
      ],
      "metadata": {
        "id": "Jk8HodLON1Zi"
      },
      "execution_count": null,
      "outputs": []
    },
    {
      "cell_type": "code",
      "source": [
        "data.describe()"
      ],
      "metadata": {
        "id": "57_ie327Palp"
      },
      "execution_count": null,
      "outputs": []
    },
    {
      "cell_type": "code",
      "source": [
        "data.isnull()"
      ],
      "metadata": {
        "id": "crHOtTXjQWs5"
      },
      "execution_count": null,
      "outputs": []
    },
    {
      "cell_type": "code",
      "source": [
        "data.isnull().sum()"
      ],
      "metadata": {
        "id": "IxL6NgBOQaaY"
      },
      "execution_count": null,
      "outputs": []
    },
    {
      "cell_type": "code",
      "source": [
        "data.shape"
      ],
      "metadata": {
        "id": "Z6H6TFy-QkZ0"
      },
      "execution_count": null,
      "outputs": []
    },
    {
      "cell_type": "markdown",
      "source": [
        "there are null  values in age , cabin and embarked , lets handle null values"
      ],
      "metadata": {
        "id": "d0lZxYunX9oX"
      }
    },
    {
      "cell_type": "code",
      "source": [
        "data[\"Age\"]=data[\"Age\"].fillna(data[\"Age\"].median())"
      ],
      "metadata": {
        "id": "llCH5ptJXvQX"
      },
      "execution_count": null,
      "outputs": []
    },
    {
      "cell_type": "code",
      "source": [
        "data.head()"
      ],
      "metadata": {
        "id": "iz-BfBRTYObD"
      },
      "execution_count": null,
      "outputs": []
    },
    {
      "cell_type": "code",
      "source": [
        "data[\"Embarked\"]=data[\"Embarked\"].fillna(data[\"Embarked\"].mode()[0])\n",
        "data.head()"
      ],
      "metadata": {
        "id": "sk8gDqpKYQrQ"
      },
      "execution_count": null,
      "outputs": []
    },
    {
      "cell_type": "code",
      "source": [
        "data.isnull().sum()"
      ],
      "metadata": {
        "id": "umJfD4oGbnVy"
      },
      "execution_count": null,
      "outputs": []
    },
    {
      "cell_type": "code",
      "source": [
        "data[\"Has_Cabin\"]=data[\"Cabin\"].notna().astype(int)\n",
        "data.drop(\"Cabin\",axis=1, inplace=True)"
      ],
      "metadata": {
        "id": "IVEFnH-Dbuo0"
      },
      "execution_count": null,
      "outputs": []
    },
    {
      "cell_type": "code",
      "source": [
        "data.head()"
      ],
      "metadata": {
        "id": "9Fhv-lzlcJ_S"
      },
      "execution_count": null,
      "outputs": []
    },
    {
      "cell_type": "code",
      "source": [],
      "metadata": {
        "id": "YvUY_mAgcLCy"
      },
      "execution_count": null,
      "outputs": []
    },
    {
      "cell_type": "code",
      "metadata": {
        "id": "c489b896"
      },
      "source": [
        "fig, axes = plt.subplots(2, 3, figsize=(18, 12))\n",
        "fig.suptitle('Univariate Analysis of Categorical Features', fontsize=16)\n",
        "sns.countplot(ax=axes[0,0],data=data, x=\"Survived\").set_title(\"survival\")\n",
        "sns.countplot(ax=axes[0,1],data=data,x=\"Sex\").set_title(\"Gender\")\n",
        "sns.countplot(ax=axes[0,2],data=data,x=\"Embarked\" ).set_title(\"Embarked\")\n",
        "sns.countplot(ax=axes[1,0],data=data,x=\"Has_Cabin\" ).set_title(\"Cabin\")\n",
        "sns.countplot(ax=axes[1,1],data=data,x=\"Parch\" ).set_title(\"Parch\")\n",
        "sns.countplot(ax=axes[1,2],data=data,x=\"SibSp\" ).set_title(\"Sibps\")"
      ],
      "execution_count": null,
      "outputs": []
    },
    {
      "cell_type": "code",
      "source": [],
      "metadata": {
        "id": "cRI5PdVqoCxN"
      },
      "execution_count": null,
      "outputs": []
    },
    {
      "cell_type": "code",
      "source": [
        "fig , axes=plt.subplots(1,2 , figsize=(18,12))\n",
        "sns.histplot(ax=axes[0] , x=\"Age\" , data=data,kde=True, bins=30).set_title(\"Age distribution\")\n",
        "sns.histplot(ax=axes[1], x=\"Fare\", data=data, bins=30,kde=True).set_title(\"Fare distruibution\")"
      ],
      "metadata": {
        "id": "OWBK01uieFlC"
      },
      "execution_count": null,
      "outputs": []
    },
    {
      "cell_type": "markdown",
      "source": [
        "BI VARIATE ANALYSIS\n"
      ],
      "metadata": {
        "id": "PH2NbkPOo-pb"
      }
    },
    {
      "cell_type": "code",
      "source": [
        "fig,axes=plt.subplots(2,2 , figsize=(16,12)) #class sex embarked has cabin\n",
        "sns.barplot(ax=axes[0,0], x=\"Pclass\",y=\"Survived\", data=data).set_title(\"class vs survival\")\n",
        "sns.barplot(ax=axes[0,1],x=\"Sex\",y=\"Survived\",data=data).set_title(\"Sex vs survival\")\n",
        "sns.barplot(ax=axes[1,0],x=\"Embarked\",y=\"Survived\",data=data).set_title(\"Embarked vs survival\")\n",
        "sns.barplot(ax=axes[1,1],x=\"Has_Cabin\",y=\"Survived\",data=data).set_title(\"Cabin vs survival\")"
      ],
      "metadata": {
        "id": "lBozP9HwpF36"
      },
      "execution_count": null,
      "outputs": []
    },
    {
      "cell_type": "code",
      "source": [
        "\n",
        "g = sns.FacetGrid(data, col='Survived', height=6)\n",
        "g.map(sns.histplot, 'Age', bins=25, kde=True)\n",
        "plt.suptitle('Age Distribution by Survival Status', y=1.02)\n",
        "plt.show()"
      ],
      "metadata": {
        "id": "elqG20Exp2AX"
      },
      "execution_count": null,
      "outputs": []
    },
    {
      "cell_type": "markdown",
      "source": [
        "OUTLIER DETECTION\n",
        "\n"
      ],
      "metadata": {
        "id": "AWPk_HCirD8X"
      }
    },
    {
      "cell_type": "code",
      "source": [
        "sns.boxplot(data=data[\"Fare\"])\n",
        "plt.show()"
      ],
      "metadata": {
        "id": "tKBUdvNWq9iZ"
      },
      "execution_count": null,
      "outputs": []
    },
    {
      "cell_type": "code",
      "source": [],
      "metadata": {
        "id": "vey2HfGsrQ5e"
      },
      "execution_count": null,
      "outputs": []
    },
    {
      "cell_type": "code",
      "source": [],
      "metadata": {
        "id": "PlIB65mqrjdB"
      },
      "execution_count": null,
      "outputs": []
    },
    {
      "cell_type": "code",
      "source": [],
      "metadata": {
        "id": "6LaaQcfYrR6r"
      },
      "execution_count": null,
      "outputs": []
    },
    {
      "cell_type": "markdown",
      "source": [
        "FEATURE ENGINEERING"
      ],
      "metadata": {
        "id": "85WSft0Prj4A"
      }
    },
    {
      "cell_type": "code",
      "source": [
        "data[\"familysize\"]=data[\"SibSp\"]+data[\"Parch\"]\n",
        "data[\"alone\"]=0\n",
        "data.loc[data['familysize'] == 1, 'alone'] = 1"
      ],
      "metadata": {
        "id": "kR2i8x99rmUm"
      },
      "execution_count": null,
      "outputs": []
    },
    {
      "cell_type": "code",
      "source": [
        "data.head()"
      ],
      "metadata": {
        "id": "nm9k9Ed-r8zy"
      },
      "execution_count": null,
      "outputs": []
    },
    {
      "cell_type": "code",
      "source": [
        "sns.barplot(x=\"familysize\",y=\"Survived\",data=data).set_title(\"familysize vs survival\")\n",
        "plt.show()\n",
        "sns.barplot(x=\"alone\",y=\"Survived\",data=data).set_title(\"alone vs survived\")\n",
        "plt.show()"
      ],
      "metadata": {
        "id": "VzNhM52GsRnn"
      },
      "execution_count": null,
      "outputs": []
    },
    {
      "cell_type": "code",
      "source": [
        "# 3. Extract 'Title' from the 'Name' column\n",
        "data['Title'] = data['Name'].str.extract(r' ([A-Za-z]+)\\.', expand=False)\n",
        "\n",
        "# Let's see the different titles\n",
        "print(\"Extracted Titles:\")\n",
        "data['Title'].value_counts()"
      ],
      "metadata": {
        "id": "zt3yAStMtegc"
      },
      "execution_count": null,
      "outputs": []
    },
    {
      "cell_type": "code",
      "source": [
        "# Simplify the titles by grouping rare ones into a 'Rare' category\n",
        "data['Title'] = data['Title'].replace(['Lady', 'Countess','Capt', 'Col','Don', 'Dr', 'Major', 'Rev', 'Sir', 'Jonkheer', 'Dona'], 'Rare')\n",
        "\n",
        "data['Title'] = data['Title'].replace('Mlle', 'Miss')\n",
        "data['Title'] = data['Title'].replace('Ms', 'Miss')\n",
        "data['Title'] = data['Title'].replace('Mme', 'Mrs')\n",
        "\n",
        "# Let's see the survival rate by the new, cleaned titles\n",
        "plt.figure(figsize=(12, 6))\n",
        "sns.barplot(x='Title', y='Survived', data=data)\n",
        "plt.title('Survival Rate by Title')\n",
        "plt.ylabel('Survival Probability')\n",
        "plt.show()"
      ],
      "metadata": {
        "id": "1qriok5UuC9x"
      },
      "execution_count": null,
      "outputs": []
    },
    {
      "cell_type": "code",
      "source": [],
      "metadata": {
        "id": "wYqETCEBuPRl"
      },
      "execution_count": null,
      "outputs": []
    },
    {
      "cell_type": "code",
      "source": [],
      "metadata": {
        "id": "OM87pj1KuT-K"
      },
      "execution_count": null,
      "outputs": []
    },
    {
      "cell_type": "code",
      "source": [],
      "metadata": {
        "id": "AfCJ0YniuTyD"
      },
      "execution_count": null,
      "outputs": []
    },
    {
      "cell_type": "markdown",
      "source": [
        "MULTIVARIATE ANALYSIS"
      ],
      "metadata": {
        "id": "QC5nWOFLuUuU"
      }
    },
    {
      "cell_type": "code",
      "source": [
        "sns.catplot(x=\"Pclass\",y=\"Survived\",hue=\"Sex\",data=data,kind=\"bar\")\n",
        "plt.show()"
      ],
      "metadata": {
        "id": "cJ94BOkMuWrq"
      },
      "execution_count": null,
      "outputs": []
    },
    {
      "cell_type": "code",
      "source": [
        "sns.violinplot(x='Sex', y='Age', hue='Survived', data=data, split=True, palette={0: 'blue', 1: 'orange'})\n",
        "plt.show()\n",
        "sns.violinplot(x='Pclass', y='Fare', hue='Survived', data=data, split=True, palette={0: 'blue', 1: 'orange'})"
      ],
      "metadata": {
        "id": "wQi4xf7ZuoFB"
      },
      "execution_count": null,
      "outputs": []
    },
    {
      "cell_type": "code",
      "source": [
        "sns.heatmap(data.select_dtypes(include=np.number).corr(),cmap=\"Blues\")"
      ],
      "metadata": {
        "id": "dhkCfIWSu3RC"
      },
      "execution_count": null,
      "outputs": []
    },
    {
      "cell_type": "code",
      "source": [],
      "metadata": {
        "id": "mkIrf2-yvdx1"
      },
      "execution_count": null,
      "outputs": []
    },
    {
      "cell_type": "code",
      "source": [],
      "metadata": {
        "id": "WEsf3dv6vwkd"
      },
      "execution_count": null,
      "outputs": []
    },
    {
      "cell_type": "code",
      "source": [],
      "metadata": {
        "id": "6W--YueNvwg-"
      },
      "execution_count": null,
      "outputs": []
    },
    {
      "cell_type": "code",
      "source": [
        "# Generate the profiling report\n",
        "# Install ydata-profiling\n",
        "!pip install ydata-profiling -q\n",
        "from ydata_profiling import ProfileReport\n",
        "\n",
        "profile = ProfileReport(data, title=\"Titanic Dataset Profiling Report\")\n",
        "\n",
        "# Display the report in the notebook\n",
        "profile.to_notebook_iframe()"
      ],
      "metadata": {
        "id": "VjSTKfETvwey"
      },
      "execution_count": null,
      "outputs": []
    },
    {
      "cell_type": "code",
      "source": [
        "profile.to_file(\"titanic.html\")"
      ],
      "metadata": {
        "id": "o8hwZ2jZvyGm"
      },
      "execution_count": null,
      "outputs": []
    },
    {
      "cell_type": "code",
      "source": [],
      "metadata": {
        "id": "8ENHOrkMwmCr"
      },
      "execution_count": null,
      "outputs": []
    }
  ]
}