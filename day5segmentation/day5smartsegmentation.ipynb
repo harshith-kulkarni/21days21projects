{
  "nbformat": 4,
  "nbformat_minor": 0,
  "metadata": {
    "colab": {
      "private_outputs": true,
      "provenance": []
    },
    "kernelspec": {
      "name": "python3",
      "display_name": "Python 3"
    },
    "language_info": {
      "name": "python"
    }
  },
  "cells": [
    {
      "cell_type": "code",
      "execution_count": null,
      "metadata": {
        "id": "6pIq1u1oVF0c"
      },
      "outputs": [],
      "source": [
        "#gender vs spending\n",
        "#gendervs income vs spending"
      ]
    },
    {
      "cell_type": "code",
      "metadata": {
        "id": "d7166818"
      },
      "source": [],
      "execution_count": null,
      "outputs": []
    },
    {
      "cell_type": "code",
      "source": [
        "import pandas as pd\n",
        "import numpy as np\n",
        "import matplotlib.pyplot as plt\n",
        "import seaborn as sns\n",
        "import plotly.express as px\n",
        "import scipy.cluster.hierarchy as sch\n",
        "\n",
        "from sklearn.cluster import KMeans\n",
        "from sklearn.preprocessing import StandardScaler\n",
        "\n",
        "# Set plot style\n",
        "sns.set_style('whitegrid')"
      ],
      "metadata": {
        "id": "IahdKD-uQBmT"
      },
      "execution_count": null,
      "outputs": []
    },
    {
      "cell_type": "code",
      "source": [
        "# Load the dataset from the user-provided file\n",
        "!git clone \"https://github.com/GeeksforgeeksDS/21-Days-21-Projects-Dataset\"\n",
        "df = pd.read_csv('/content/21-Days-21-Projects-Dataset/Datasets/Mall_Customers.csv')\n",
        "df.head()"
      ],
      "metadata": {
        "id": "LYSheVjhQJ4V"
      },
      "execution_count": null,
      "outputs": []
    },
    {
      "cell_type": "code",
      "source": [
        "df.isnull().sum()"
      ],
      "metadata": {
        "id": "jlnI1PkaQZFX"
      },
      "execution_count": null,
      "outputs": []
    },
    {
      "cell_type": "code",
      "source": [
        "df.drop('CustomerID',axis=1,inplace=True)"
      ],
      "metadata": {
        "id": "QTxSjDoNQb5p"
      },
      "execution_count": null,
      "outputs": []
    },
    {
      "cell_type": "code",
      "source": [
        "fig, axes = plt.subplots(1, 3, figsize=(20, 6))\n",
        "fig.suptitle('Distributions of Customer Features', fontsize=16)\n",
        "\n",
        "sns.histplot(ax=axes[0], data=df, x='Age', kde=True, bins=20, hue='Gender').set_title('Age Distribution')\n",
        "sns.histplot(ax=axes[1], data=df, x='Annual Income (k$)', kde=True, bins=20, hue='Gender').set_title('Annual Income Distribution')\n",
        "sns.histplot(ax=axes[2], data=df, x='Spending Score (1-100)', kde=True, bins=20, hue='Gender').set_title('Spending Score Distribution')\n",
        "\n",
        "plt.show()"
      ],
      "metadata": {
        "id": "AUuYNKbIQnwu"
      },
      "execution_count": null,
      "outputs": []
    },
    {
      "cell_type": "code",
      "source": [
        "sns.pairplot(df, vars=['Age', 'Annual Income (k$)', 'Spending Score (1-100)'], hue='Gender', diag_kind='kde')\n",
        "plt.suptitle('Pair Plot of Customer Features', y=1.02)\n",
        "plt.show()"
      ],
      "metadata": {
        "id": "DcX1BwSLRCyC"
      },
      "execution_count": null,
      "outputs": []
    },
    {
      "cell_type": "code",
      "source": [
        "fig = px.scatter_3d(df,\n",
        "                    x='Annual Income (k$)',\n",
        "                    y='Spending Score (1-100)',\n",
        "                    z='Age',\n",
        "                    color='Gender',\n",
        "                    title='3D View of Customer Data')\n",
        "fig.show()"
      ],
      "metadata": {
        "id": "YjNnkB-cRH-x"
      },
      "execution_count": null,
      "outputs": []
    },
    {
      "cell_type": "code",
      "source": [
        "# 1. Select and scale the features\n",
        "X1 = df[['Annual Income (k$)', 'Spending Score (1-100)']]\n",
        "scaler1 = StandardScaler()\n",
        "X1_scaled = scaler1.fit_transform(X1)\n",
        "\n",
        "# 2. Implement the Elbow Method\n",
        "wcss1 = []\n",
        "for k in range(1, 11):\n",
        "    kmeans = KMeans(n_clusters=k, init='k-means++', random_state=42, n_init=10)\n",
        "    kmeans.fit(X1_scaled)\n",
        "    wcss1.append(kmeans.inertia_)\n",
        "\n",
        "# 3. Plot the Elbow Curve\n",
        "plt.figure(figsize=(10, 6))\n",
        "plt.plot(range(1, 11), wcss1, marker='o', linestyle='--')\n",
        "plt.title('Elbow Method for Income-Spending Segmentation')\n",
        "plt.xlabel('Number of Clusters (k)')\n",
        "plt.ylabel('WCSS (Inertia)')\n",
        "plt.xticks(range(1, 11))\n",
        "plt.show()\n",
        "# Build and fit the final model\n",
        "kmeans1 = KMeans(n_clusters=5, init='k-means++', random_state=42, n_init=10)\n",
        "df['Income_Cluster'] = kmeans1.fit_predict(X1_scaled)\n",
        "plt.figure(figsize=(12, 8))\n",
        "sns.scatterplot(data=df, x='Annual Income (k$)', y='Spending Score (1-100)',\n",
        "                hue='Income_Cluster', palette='viridis', s=100, alpha=0.8, edgecolor='black')\n",
        "plt.title('Customer Segments by Income and Spending')\n",
        "plt.legend(title='Cluster')\n",
        "plt.show()\n",
        "# Quantitative Persona Analysis\n",
        "cluster_profiles1 = df.groupby('Income_Cluster')[['Age', 'Annual Income (k$)', 'Spending Score (1-100)']].mean().round(2)\n",
        "cluster_profiles1['Size'] = df['Income_Cluster'].value_counts()\n",
        "print(\"--- Income-Based Cluster Profiles ---\")\n",
        "cluster_profiles1"
      ],
      "metadata": {
        "id": "QU6Aby2XRP8U"
      },
      "execution_count": null,
      "outputs": []
    },
    {
      "cell_type": "code",
      "source": [
        "# 1. Select and scale the features\n",
        "X2 = df[['Age', 'Spending Score (1-100)']]\n",
        "scaler2 = StandardScaler()\n",
        "X2_scaled = scaler2.fit_transform(X2)\n",
        "\n",
        "# 2. Implement the Elbow Method\n",
        "wcss2 = []\n",
        "for k in range(1, 11):\n",
        "    kmeans = KMeans(n_clusters=k, init='k-means++', random_state=42, n_init=10)\n",
        "    kmeans.fit(X2_scaled)\n",
        "    wcss2.append(kmeans.inertia_)\n",
        "\n",
        "# 3. Plot the Elbow Curve\n",
        "plt.figure(figsize=(10, 6))\n",
        "plt.plot(range(1, 11), wcss2, marker='o', linestyle='--')\n",
        "plt.title('Elbow Method for Age-Spending Segmentation')\n",
        "plt.xlabel('Number of Clusters (k)')\n",
        "plt.ylabel('WCSS (Inertia)')\n",
        "plt.xticks(range(1, 11))\n",
        "plt.show()\n",
        "# Build and fit the final model for age segmentation\n",
        "kmeans2 = KMeans(n_clusters=4, init='k-means++', random_state=42, n_init=10)\n",
        "df['Age_Cluster'] = kmeans2.fit_predict(X2_scaled)\n",
        "\n",
        "# Visualize the new clusters\n",
        "plt.figure(figsize=(12, 8))\n",
        "sns.scatterplot(data=df, x='Age', y='Spending Score (1-100)',\n",
        "                hue='Age_Cluster', palette='magma', s=100, alpha=0.8, edgecolor='black')\n",
        "plt.title('Customer Segments by Age and Spending')\n",
        "plt.legend(title='Cluster')\n",
        "plt.show()\n"
      ],
      "metadata": {
        "id": "YHXrMthzS6rr"
      },
      "execution_count": null,
      "outputs": []
    },
    {
      "cell_type": "markdown",
      "source": [
        "GENDER VS SPENDING SCORE :\n",
        "IN THIS CELL LETS CHECK THE SCATTERING FOR GENDER VS SPENDING SCORE. AS GENDER IS CATEGORICAL LETS ONE HOT ENCODE IT AND STANDARDISE THE VALUES OF SPENDING SCORE"
      ],
      "metadata": {
        "id": "wjONcQKzTOWm"
      }
    },
    {
      "cell_type": "code",
      "metadata": {
        "id": "facba02d"
      },
      "source": [
        "# 1. Select and scale the features\n",
        "X2 = df[['Gender', 'Spending Score (1-100)']]\n",
        "X2 = pd.get_dummies(X2, columns=['Gender'], drop_first=True) # One-hot encode 'Gender'\n",
        "scaler2 = StandardScaler()\n",
        "X2_scaled = scaler2.fit_transform(X2)\n",
        "\n",
        "# 2. Implement the Elbow Method\n",
        "wcss2 = []\n",
        "for k in range(1, 11):\n",
        "    kmeans = KMeans(n_clusters=k, init='k-means++', random_state=42, n_init=10)\n",
        "    kmeans.fit(X2_scaled)\n",
        "    wcss2.append(kmeans.inertia_)\n",
        "\n",
        "# 3. Plot the Elbow Curve\n",
        "plt.figure(figsize=(10, 6))\n",
        "plt.plot(range(1, 11), wcss2, marker='o', linestyle='--')\n",
        "plt.title('Elbow Method for Gender-Spending Segmentation')\n",
        "plt.xlabel('Number of Clusters (k)')\n",
        "plt.ylabel('WCSS (Inertia)')\n",
        "plt.xticks(range(1, 11))\n",
        "plt.show()\n",
        "\n",
        "# Determine the optimal number of clusters from the elbow plot\n",
        "# Based on the plot, let's choose k=4 (adjust if the plot suggests a different number)\n",
        "optimal_k2 = 4\n",
        "\n",
        "# Build and fit the final model\n",
        "kmeans2 = KMeans(n_clusters=optimal_k2, init='k-means++', random_state=42, n_init=10)\n",
        "df['Gender_Spending_Cluster'] = kmeans2.fit_predict(X2_scaled)\n",
        "\n",
        "plt.figure(figsize=(12, 8))\n",
        "sns.scatterplot(data=df, x='Gender', y='Spending Score (1-100)',\n",
        "                hue='Gender_Spending_Cluster', palette='viridis', s=100, alpha=0.8, edgecolor='black')\n",
        "plt.title('Customer Segments by Gender and Spending')\n",
        "plt.legend(title='Cluster')\n",
        "plt.show()\n",
        "\n",
        "# Quantitative Persona Analysis\n",
        "cluster_profiles2 = df.groupby('Gender_Spending_Cluster')[['Age', 'Annual Income (k$)', 'Spending Score (1-100)']].mean().round(2)\n",
        "cluster_profiles2['Size'] = df['Gender_Spending_Cluster'].value_counts()\n",
        "print(\"--- Gender-Spending Based Cluster Profiles ---\")\n",
        "display(cluster_profiles2)"
      ],
      "execution_count": null,
      "outputs": []
    },
    {
      "cell_type": "markdown",
      "source": [
        "IN THIS LETS CHECK gendervs income vs spending\n",
        "GENDER IS ONE HOT ENCODED AND INCOM EAND SPENDING ARE STANDARDISED\n",
        "EACH COLOR IS FOR A DIFFERENT COLOR IN 3 DIMENSIONAL SPACE AND ELBOW METHOD TO BE USED TO GET GOOD NO OF CLUSTERS REQUIRED"
      ],
      "metadata": {
        "id": "bfUDMGC5VNsO"
      }
    },
    {
      "cell_type": "code",
      "source": [
        "# 1. Select and scale the features\n",
        "X3 = df[['Gender', 'Annual Income (k$)', 'Spending Score (1-100)']]\n",
        "X3 = pd.get_dummies(X3, columns=['Gender'], drop_first=True) # One-hot encode 'Gender'\n",
        "scaler3 = StandardScaler()\n",
        "X3_scaled = scaler3.fit_transform(X3)\n",
        "\n",
        "# 2. Implement the Elbow Method\n",
        "wcss3 = []\n",
        "for k in range(1, 11):\n",
        "    kmeans = KMeans(n_clusters=k, init='k-means++', random_state=42, n_init=10)\n",
        "    kmeans.fit(X3_scaled)\n",
        "    wcss3.append(kmeans.inertia_)\n",
        "\n",
        "# 3. Plot the Elbow Curve\n",
        "plt.figure(figsize=(10, 6))\n",
        "plt.plot(range(1, 11), wcss3, marker='o', linestyle='--')\n",
        "plt.title('Elbow Method for Gender-Income-Spending Segmentation')\n",
        "plt.xlabel('Number of Clusters (k)')\n",
        "plt.ylabel('WCSS (Inertia)')\n",
        "plt.xticks(range(1, 11))\n",
        "plt.show()\n",
        "\n",
        "# Determine the optimal number of clusters from the elbow plot\n",
        "# Based on the plot, let's choose k=5 (adjust if the plot suggests a different number)\n",
        "optimal_k3 = 5\n",
        "\n",
        "# Build and fit the final model\n",
        "kmeans3 = KMeans(n_clusters=optimal_k3, init='k-means++', random_state=42, n_init=10)\n",
        "df['Gender_Income_Spending_Cluster'] = kmeans3.fit_predict(X3_scaled)\n",
        "\n",
        "# Visualize the clusters (using a 3D scatter plot)\n",
        "fig = px.scatter_3d(df,\n",
        "                    x='Annual Income (k$)',\n",
        "                    y='Spending Score (1-100)',\n",
        "                    z='Age', # Using Age for the third dimension for visualization\n",
        "                    color='Gender_Income_Spending_Cluster',\n",
        "                    title='3D View of Customer Segments by Gender, Income, and Spending')\n",
        "fig.show()\n",
        "\n",
        "# Quantitative Persona Analysis\n",
        "cluster_profiles3 = df.groupby('Gender_Income_Spending_Cluster')[['Age', 'Annual Income (k$)', 'Spending Score (1-100)']].mean().round(2)\n",
        "cluster_profiles3['Size'] = df['Gender_Income_Spending_Cluster'].value_counts()\n",
        "print(\"--- Gender-Income-Spending Based Cluster Profiles ---\")\n",
        "display(cluster_profiles3)"
      ],
      "metadata": {
        "id": "5nkxWw6vT-Oz"
      },
      "execution_count": null,
      "outputs": []
    },
    {
      "cell_type": "code",
      "source": [],
      "metadata": {
        "id": "Np_nfRLlUf-h"
      },
      "execution_count": null,
      "outputs": []
    }
  ]
}