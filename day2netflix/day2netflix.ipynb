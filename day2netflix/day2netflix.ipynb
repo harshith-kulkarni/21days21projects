{
  "nbformat": 4,
  "nbformat_minor": 0,
  "metadata": {
    "colab": {
      "private_outputs": true,
      "provenance": []
    },
    "kernelspec": {
      "name": "python3",
      "display_name": "Python 3"
    },
    "language_info": {
      "name": "python"
    }
  },
  "cells": [
    {
      "cell_type": "code",
      "execution_count": null,
      "metadata": {
        "id": "zedlkPta0u3q"
      },
      "outputs": [],
      "source": [
        "import numpy as np\n",
        "import pandas as pd\n",
        "import matplotlib.pyplot as plt\n",
        "import seaborn as sns\n",
        "from wordcloud import WordCloud"
      ]
    },
    {
      "cell_type": "code",
      "source": [
        "!git clone \"https://github.com/GeeksforgeeksDS/21-Days-21-Projects-Dataset\""
      ],
      "metadata": {
        "id": "v6LjnhcmUWrH"
      },
      "execution_count": null,
      "outputs": []
    },
    {
      "cell_type": "code",
      "source": [
        "data=pd.read_csv(\"/content/21-Days-21-Projects-Dataset/Datasets/netflix_titles.csv\")"
      ],
      "metadata": {
        "id": "3Gr3sRIZUYzx"
      },
      "execution_count": null,
      "outputs": []
    },
    {
      "cell_type": "code",
      "source": [
        "data.head()"
      ],
      "metadata": {
        "id": "ipsy7R6vUhlW"
      },
      "execution_count": null,
      "outputs": []
    },
    {
      "cell_type": "code",
      "source": [
        "data.info()"
      ],
      "metadata": {
        "id": "8_nyUb8WUizq"
      },
      "execution_count": null,
      "outputs": []
    },
    {
      "cell_type": "code",
      "source": [
        "data.describe()"
      ],
      "metadata": {
        "id": "yi5eDVZyUl20"
      },
      "execution_count": null,
      "outputs": []
    },
    {
      "cell_type": "code",
      "source": [
        "data.isnull().sum()"
      ],
      "metadata": {
        "id": "8N1Ar-xIUoVW"
      },
      "execution_count": null,
      "outputs": []
    },
    {
      "cell_type": "code",
      "source": [
        "data.shape"
      ],
      "metadata": {
        "id": "roXXH_cRUsHh"
      },
      "execution_count": null,
      "outputs": []
    },
    {
      "cell_type": "markdown",
      "source": [
        "HANDLING DATA : DATA IN STRING / OBJECT"
      ],
      "metadata": {
        "id": "jcgX5jaFWNzP"
      }
    },
    {
      "cell_type": "code",
      "source": [
        "data.columns"
      ],
      "metadata": {
        "id": "EMHNB9o2U_yQ"
      },
      "execution_count": null,
      "outputs": []
    },
    {
      "cell_type": "code",
      "source": [
        "data[\"director\"]=data[\"director\"].fillna(\"unknown\")\n",
        "data[\"cast\"]=data[\"cast\"].fillna(\"unknown\")\n",
        "data.dropna()"
      ],
      "metadata": {
        "id": "ej11NZ-CW-M0"
      },
      "execution_count": null,
      "outputs": []
    },
    {
      "cell_type": "code",
      "source": [
        "data.head()"
      ],
      "metadata": {
        "id": "edTnu89HXFZn"
      },
      "execution_count": null,
      "outputs": []
    },
    {
      "cell_type": "code",
      "source": [
        "data.isnull().sum()"
      ],
      "metadata": {
        "id": "qG5Zr0nrXhV_"
      },
      "execution_count": null,
      "outputs": []
    },
    {
      "cell_type": "code",
      "source": [
        "print(data[\"country\"].mode()[0])\n",
        "data[\"country\"]=data[\"country\"].fillna(data[\"country\"].mode()[0])"
      ],
      "metadata": {
        "id": "QnX_T-7iXkox"
      },
      "execution_count": null,
      "outputs": []
    },
    {
      "cell_type": "code",
      "source": [
        "data.head()"
      ],
      "metadata": {
        "id": "43vDMVaBYGq_"
      },
      "execution_count": null,
      "outputs": []
    },
    {
      "cell_type": "code",
      "source": [
        "data.dropna(subset=[\"date_added\",\"rating\"],inplace=True)\n",
        "data.shape"
      ],
      "metadata": {
        "id": "dUVjhe-kYL7b"
      },
      "execution_count": null,
      "outputs": []
    },
    {
      "cell_type": "code",
      "source": [
        "data[\"date_added\"]=pd.to_datetime(data[\"date_added\"],format=\"mixed\")"
      ],
      "metadata": {
        "id": "ta-oUb-TYZNK"
      },
      "execution_count": null,
      "outputs": []
    },
    {
      "cell_type": "code",
      "source": [
        "\n",
        "data['year_added'] = data['date_added'].dt.year\n",
        "data['month_added'] = data['date_added'].dt.month"
      ],
      "metadata": {
        "id": "PXOl22DQY_K6"
      },
      "execution_count": null,
      "outputs": []
    },
    {
      "cell_type": "code",
      "source": [
        "plt.figure(figsize=(8,8))\n",
        "plt.pie(data[\"type\"].value_counts(),labels=data[\"type\"].value_counts().index, autopct='%1.1f%%')\n",
        "plt.title('Distribution of Movies and TV Shows on Netflix')\n",
        "plt.show()"
      ],
      "metadata": {
        "id": "BPl-KW78ZlSs"
      },
      "execution_count": null,
      "outputs": []
    },
    {
      "cell_type": "code",
      "source": [
        "contentadded=data.groupby([\"year_added\",\"type\"]).size().unstack().fillna(0)\n",
        "print(contentadded)"
      ],
      "metadata": {
        "id": "OfqYkWa-dQTg"
      },
      "execution_count": null,
      "outputs": []
    },
    {
      "cell_type": "code",
      "source": [
        "contentadded.plot(kind=\"line\")"
      ],
      "metadata": {
        "id": "wMwQb5LbeKQv"
      },
      "execution_count": null,
      "outputs": []
    },
    {
      "cell_type": "code",
      "source": [
        "# Split the 'listed_in' column and explode it\n",
        "genres = data.assign(genre=data['listed_in'].str.split(', ')).explode('genre')"
      ],
      "metadata": {
        "id": "ChDjtrpye03N"
      },
      "execution_count": null,
      "outputs": []
    },
    {
      "cell_type": "code",
      "source": [
        "# Get the top 15 genres and their counts\n",
        "top_genres_counts = genres['genre'].value_counts().reset_index()\n",
        "top_genres_counts.columns = ['genre', 'count'] # Rename columns for clarity\n",
        "\n",
        "# Select only the top 15 for plotting\n",
        "top_genres_counts_plot = top_genres_counts.head(15)\n",
        "\n",
        "plt.figure(figsize=(12, 8))\n",
        "sns.barplot(y='genre', x='count', data=top_genres_counts_plot, palette='mako', hue='genre', legend=False)\n",
        "plt.title('Top 15 Genres on Netflix')\n",
        "plt.xlabel('Count')\n",
        "plt.ylabel('Genre')\n",
        "plt.show()"
      ],
      "metadata": {
        "id": "Ofa4MLdKfwvr"
      },
      "execution_count": null,
      "outputs": []
    },
    {
      "cell_type": "code",
      "source": [
        "movies_df = data[data['type'] == 'Movie'].copy()\n",
        "tv_shows_df = data[data['type'] == 'TV Show'].copy()\n",
        "movies_df['duration_min'] = movies_df['duration'].str.replace(' min', '').astype(int)\n",
        "tv_shows_df['seasons'] = tv_shows_df['duration'].str.replace(' Seasons', '').str.replace(' Season', '').astype(int)\n",
        "fig, axes = plt.subplots(1, 2, figsize=(18, 7))\n",
        "sns.histplot(ax=axes[0], data=movies_df, x='duration_min', bins=50, kde=True, color='skyblue').set_title('Movie Duration Distribution (minutes)')\n",
        "sns.countplot(ax=axes[1], x='seasons', data=tv_shows_df, palette='rocket', order=tv_shows_df['seasons'].value_counts().index, hue='seasons', legend=False).set_title('TV Show Season Distribution')\n",
        "plt.show()"
      ],
      "metadata": {
        "id": "_-1TNqnafzdC"
      },
      "execution_count": null,
      "outputs": []
    },
    {
      "cell_type": "code",
      "source": [
        "\n",
        "countries = data.assign(country=data['country'].str.split(', ')).explode('country')\n",
        "top_countries_counts = countries['country'].value_counts().reset_index()\n",
        "top_countries_counts.columns = ['country', 'count']\n",
        "top_countries_counts_plot = top_countries_counts.head(15)\n",
        "plt.figure(figsize=(12, 10))\n",
        "sns.barplot(y='country', x='count', data=top_countries_counts_plot, palette='viridis', hue='country', legend=False)\n",
        "plt.title('Top 15 Content Producing Countries on Netflix')\n",
        "plt.xlabel('Number of Titles')\n",
        "plt.ylabel('Country')\n",
        "plt.show()"
      ],
      "metadata": {
        "id": "tYYrZQU1gQ2B"
      },
      "execution_count": null,
      "outputs": []
    },
    {
      "cell_type": "code",
      "source": [
        "plt.figure(figsize=(12, 8))\n",
        "sns.countplot(x='rating', data=data, order=data['rating'].value_counts().index, palette='crest', hue='rating', legend=False)\n",
        "plt.title('Distribution of Content Ratings on Netflix')\n",
        "plt.xlabel('Rating')\n",
        "plt.ylabel('Count')\n",
        "plt.xticks(rotation=45)\n",
        "plt.show()"
      ],
      "metadata": {
        "id": "LDE_5Bp2gg2O"
      },
      "execution_count": null,
      "outputs": []
    },
    {
      "cell_type": "code",
      "source": [
        "# Create the 'age_on_netflix' feature\n",
        "data['age_on_netflix'] = data['year_added'] - data['release_year']\n",
        "content_age = data[data['age_on_netflix'] >= 0]\n",
        "\n",
        "plt.figure(figsize=(14, 7))\n",
        "sns.histplot(data=content_age, x='age_on_netflix', bins=50, kde=True)\n",
        "plt.title('Distribution of Content Age When Added to Netflix')\n",
        "plt.xlabel('Content Age (Years)')\n",
        "plt.ylabel('Number of Titles')\n",
        "plt.show()"
      ],
      "metadata": {
        "id": "c27Eul_vglKS"
      },
      "execution_count": null,
      "outputs": []
    },
    {
      "cell_type": "code",
      "source": [
        "# Analyze movie duration across different top genres\n",
        "top_genres = genres['genre'].value_counts().index[:5]\n",
        "genres_movies = genres[(genres['type'] == 'Movie') & (genres['genre'].isin(top_genres))].copy()\n",
        "genres_movies['duration_min'] = genres_movies['duration'].str.replace(' min', '').astype(int)\n",
        "\n",
        "plt.figure(figsize=(15, 8))\n",
        "sns.boxplot(data=genres_movies, x='genre', y='duration_min', palette='pastel', hue='genre', legend=False)\n",
        "plt.title('Movie Duration by Top Genres')\n",
        "plt.xlabel('Genre')\n",
        "plt.ylabel('Duration (minutes)')\n",
        "plt.xticks(rotation=45)\n",
        "plt.show()"
      ],
      "metadata": {
        "id": "LqXWahTggsHb"
      },
      "execution_count": null,
      "outputs": []
    },
    {
      "cell_type": "code",
      "source": [
        "# Combine all descriptions into a single string\n",
        "text = ' '.join(data['description'])\n",
        "wordcloud = WordCloud(width=800, height=400, background_color='black').generate(text)\n",
        "plt.figure(figsize=(15, 10))\n",
        "plt.imshow(wordcloud, interpolation='bilinear')\n",
        "plt.axis('off')\n",
        "plt.title('Most Common Words in Netflix Content Descriptions', fontsize=20)\n",
        "plt.show()"
      ],
      "metadata": {
        "id": "ulYomlKWgwGJ"
      },
      "execution_count": null,
      "outputs": []
    },
    {
      "cell_type": "code",
      "source": [],
      "metadata": {
        "id": "puBnpHW2g5Am"
      },
      "execution_count": null,
      "outputs": []
    }
  ]
}